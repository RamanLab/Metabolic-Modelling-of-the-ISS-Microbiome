{
 "cells": [
  {
   "cell_type": "markdown",
   "metadata": {},
   "source": [
    "# Stuck reactions in the presence of another organism"
   ]
  },
  {
   "cell_type": "code",
   "execution_count": 1,
   "metadata": {},
   "outputs": [],
   "source": [
    "import os\n",
    "import re\n",
    "from re import *\n",
    "import io\n",
    "import cobra\n",
    "from cobra import *\n",
    "import metquest\n",
    "from metquest import *\n",
    "import networkx as nx\n",
    "from networkx import *\n",
    "from itertools import combinations"
    "import shutil"
   ]
  },
  {
   "cell_type": "code",
   "execution_count": 2,
   "metadata": {},
   "outputs": [],
   "source": [
    "model_dir=\"\""
   ]
  },
  {
   "cell_type": "code",
   "execution_count": 3,
   "metadata": {},
   "outputs": [],
   "source": [
    "seed=set()\n",
    "seed_file=open(\"\",\"r\")\n",
    "seed=seed_file.read().splitlines()\n",
    "seed_file.close()"
   ]
  },
  {
   "cell_type": "code",
   "execution_count": 4,
   "metadata": {},
   "outputs": [],
   "source": [
    "#check if subdir already present\n",
    "done=[]\n",
    "for subdir in os.listdir(\"\"):\n",
    "    done.append(subdir)"
   ]
  },
  {
   "cell_type": "code",
   "execution_count": 6,
   "metadata": {},
   "source": [
    "pair_dir=\"\"\n",
    "list_file=open(\"\",'r')\n",
    "model_list=list_file.read().splitlines()\n",
    "list_file.close()\n",
    "comb_list=combinations(model_list,2)\n",
    "for comb in comb_list:\n",
    "    pair=comb[0]+\"_\"+comb[1]\n",
    "    if(pair not in done):\n",
    "        done.append(pair)\n",
    "        pair_path=pair_dir+pair\n",
    "        os.mkdir(pair_path)\n",
    "        os.chmod(pair_path,0o777)\n",
    "        shutil.copyfile(model_dir+\"\\\\\"+comb[0]+\".xml\", pair_path+\"\\\\\"+comb[0]+\".xml\")\n",
    "        shutil.copyfile(model_dir+\"\\\\\"+comb[1]+\".xml\", pair_path+\"\\\\\"+comb[1]+\".xml\")\n",
    "        model1=io.read_sbml_model(pair_path+\"\\\\\"+comb[0]+\".xml\")\n",
    "        model2=io.read_sbml_model(pair_path+\"\\\\\"+comb[1]+\".xml\")\n",
    "        model1_name=(model1.name).replace(\" \",\"_\")\n",
    "        model2_name=(model2.name).replace(\" \",\"_\")\n",
    "        print(model1_name)\n",
    "        print(model2_name)\n",
    "\n",
    "\n",
    "        org_seed1=set()\n",
    "        org_seed2=set()\n",
    "\n",
    "        for i in seed:\n",
    "            org_seed1.add(model1_name+\" \"+i)\n",
    "            org_seed2.add(model2_name+\" \"+i)\n",
    "\n",
    "        seed_pair=set()\n",
    "        seed_pair=org_seed1.union(org_seed2)\n",
    "        #num=input(\"Enter number of organisms\")\n",
    "        num=2\n",
    "        G,namemap=create_graph(pair_path,num)\n",
    "        lower_bound,status_dict,scope=forward_pass(G,seed_pair)\n",
    "\n",
    "        stuck1=[]\n",
    "        stuck2=[]\n",
    "\n",
    "        for i in nodes(G):\n",
    "            if((\"Org_\"+model1_name in i) and (i not in status_dict.keys())):\n",
    "                stuck1.append(i)\n",
    "            if((\"Org_\"+model2_name in i) and (i not in status_dict.keys())):\n",
    "                stuck2.append(i)\n",
    "\n",
    "\n",
    "        stuck_file_name1=comb[0]+\"_in_the_presence_of_\"+comb[1]+\".txt\"\n",
    "        stuck_file_name2=comb[1]+\"_in_the_presence_of_\"+comb[0]+\".txt\"\n",
    "\n",
    "        file=open(stuck_file_name1,'w')\n",
    "        for i in stuck1:\n",
    "            if(re.search(\"Org_(.*) (.*)\",i).group(2).startswith('I') or \\\n",
    "               re.search(\"Org_(.*) (.*)\",i).group(2).startswith('R')):\n",
    "                file.write(namemap[i]+\"\\n\")\n",
    "        file.close()\n",
    "\n",
    "        file=open(stuck_file_name2,'w')\n",
    "        for i in stuck2:\n",
    "            if(re.search(\"Org_(.*) (.*)\",i).group(2).startswith('I') or \\\n",
    "               re.search(\"Org_(.*) (.*)\",i).group(2).startswith('R')):\n",
    "                file.write(namemap[i]+\"\\n\")\n",
    "        file.close()"
   ]
  },
  {
   "cell_type": "code",
   "execution_count": null,
   "metadata": {},
   "outputs": [],
   "source": []
  }
 ],
 "metadata": {
  "kernelspec": {
   "display_name": "Python 3",
   "language": "python",
   "name": "python3"
  },
  "language_info": {
   "codemirror_mode": {
    "name": "ipython",
    "version": 3
   },
   "file_extension": ".py",
   "mimetype": "text/x-python",
   "name": "python",
   "nbconvert_exporter": "python",
   "pygments_lexer": "ipython3",
   "version": "3.8.2"
  }
 },
 "nbformat": 4,
 "nbformat_minor": 4
}
